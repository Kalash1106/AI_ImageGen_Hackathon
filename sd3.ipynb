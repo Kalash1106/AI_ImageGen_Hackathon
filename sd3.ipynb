{
 "cells": [
  {
   "cell_type": "code",
   "execution_count": 2,
   "metadata": {},
   "outputs": [],
   "source": [
    "prompt = '''\n",
    "A car advertisement showing a Middle Eastern couple, pose elegantly beside their Toyota Corolla Cross XLE 2022  \n",
    "which is an SUV placed in a showroom. Detailed, 4k, realistic, sharp\n",
    "'''\n",
    "\n",
    "negative_prompt = 'misfigured, ugly, misaligned, misplaced, dark art, cartoon, anime, funny'"
   ]
  }
 ],
 "metadata": {
  "kernelspec": {
   "display_name": "stable_diffusion",
   "language": "python",
   "name": "python3"
  },
  "language_info": {
   "codemirror_mode": {
    "name": "ipython",
    "version": 3
   },
   "file_extension": ".py",
   "mimetype": "text/x-python",
   "name": "python",
   "nbconvert_exporter": "python",
   "pygments_lexer": "ipython3",
   "version": "3.9.6"
  }
 },
 "nbformat": 4,
 "nbformat_minor": 2
}
