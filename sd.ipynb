{
 "cells": [
  {
   "cell_type": "code",
   "execution_count": null,
   "metadata": {},
   "outputs": [],
   "source": [
    "import torch\n",
    "from diffusers import StableDiffusion3Pipeline\n",
    "\n",
    "pipe = StableDiffusion3Pipeline.from_pretrained(\n",
    "    \"stabilityai/stable-diffusion-3-medium-diffusers\",\n",
    "    torch_dtype=torch.float16\n",
    ").to(\"cuda:1\")\n",
    "\n",
    "# Warm Up\n",
    "prompt = \"a photo of a cat holding a sign that says hello world\"\n",
    "for _ in range(1):\n",
    "    _ = pipe(prompt=prompt, generator=torch.manual_seed(1))"
   ]
  },
  {
   "cell_type": "code",
   "execution_count": null,
   "metadata": {},
   "outputs": [],
   "source": [
    "# Run Inference\n",
    "\n",
    "def gen_image(pipe, prompt, neg_prompt, guidance_scale = 7.0, num_inference_steps = 28):\n",
    "    image = pipe(prompt=prompt,\n",
    "                 negative_prompt = neg_prompt,\n",
    "                 guidance_scale = guidance_scale,\n",
    "                 num_inference_steps = num_inference_steps,\n",
    "                 generator=torch.manual_seed(1)).images[0]\n",
    "    \n",
    "    return image"
   ]
  },
  {
   "cell_type": "code",
   "execution_count": null,
   "metadata": {},
   "outputs": [],
   "source": [
    "%%time\n",
    "prompt = \"A realistic picture of Toyota Corolla Cross 2022 model parked outside a home. A young man and a woman stand beside the car with joyful faces.\"\n",
    "neg_prompt = \"poorly drawn faces, poor hands, poor legs, mutated body parts, disfigured, deformed body features, dirty, ugly, disfigured, cartoon, anime\"\n",
    "img = gen_image(pipe, prompt, neg_prompt, 7)"
   ]
  },
  {
   "cell_type": "code",
   "execution_count": null,
   "metadata": {},
   "outputs": [],
   "source": [
    "img"
   ]
  }
 ],
 "metadata": {
  "kernelspec": {
   "display_name": "stable_diffusion",
   "language": "python",
   "name": "python3"
  },
  "language_info": {
   "codemirror_mode": {
    "name": "ipython",
    "version": 3
   },
   "file_extension": ".py",
   "mimetype": "text/x-python",
   "name": "python",
   "nbconvert_exporter": "python",
   "pygments_lexer": "ipython3",
   "version": "3.11.9"
  }
 },
 "nbformat": 4,
 "nbformat_minor": 2
}
